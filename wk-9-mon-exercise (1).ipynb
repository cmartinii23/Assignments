{
 "cells": [
  {
   "cell_type": "code",
   "execution_count": 1,
   "id": "03396cba-e4d5-4c64-8f56-39ab6ca5c651",
   "metadata": {},
   "outputs": [
    {
     "name": "stdout",
     "output_type": "stream",
     "text": [
      "Original DataFrame:\n",
      "   order_id date_string  customer_id  amount product_category\n",
      "0      1000  2023-01-15          144  229.27             Home\n",
      "1      1001  2023-02-28          127  306.74      Electronics\n",
      "2      1002  2023-04-10          114  323.78            Books\n",
      "3      1003  2023-05-22          135  279.89         Clothing\n",
      "4      1004  2023-01-30          120  212.28            Books\n"
     ]
    }
   ],
   "source": [
    "# Exercise: DateTime Formatting and Analysis\n",
    "\n",
    "# In this exercise, you'll practice working with the Pandas DateTime functionality to:\n",
    "# 1. Convert string dates to datetime objects\n",
    "# 2. Extract date components\n",
    "\n",
    "# Dataset: An e-commerce sales dataset with transaction dates\n",
    "\n",
    "\n",
    "import pandas as pd\n",
    "import numpy as np\n",
    "\n",
    "# Sample dataset - run this to create your dataframe\n",
    "data = {\n",
    "    'order_id': range(1000, 1020),\n",
    "    'date_string': ['2023-01-15', '2023-02-28', '2023-04-10', '2023-05-22', '2023-01-30',\n",
    "                   '2023-02-14', '2023-03-15', '2023-04-23', '2023-05-01', '2023-01-05',\n",
    "                   '2023-02-19', '2023-03-27', '2023-04-05', '2023-05-16', '2023-01-22',\n",
    "                   '2023-02-10', '2023-03-03', '2023-04-30', '2023-05-11', '2023-01-18'],\n",
    "    'customer_id': np.random.randint(100, 150, 20),\n",
    "    'amount': np.random.uniform(50, 500, 20).round(2),\n",
    "    'product_category': np.random.choice(['Electronics', 'Clothing', 'Home', 'Books'], 20)\n",
    "}\n",
    "\n",
    "df = pd.DataFrame(data)\n",
    "print(\"Original DataFrame:\")\n",
    "print(df.head())"
   ]
  },
  {
   "cell_type": "code",
   "execution_count": 2,
   "id": "b920851c-0b64-452d-b1db-e93ae7bb03b2",
   "metadata": {},
   "outputs": [
    {
     "name": "stdout",
     "output_type": "stream",
     "text": [
      "\n",
      "DataFrame with 'order_date' column:\n",
      "  date_string order_date\n",
      "0  2023-01-15 2023-01-15\n",
      "1  2023-02-28 2023-02-28\n",
      "2  2023-04-10 2023-04-10\n",
      "3  2023-05-22 2023-05-22\n",
      "4  2023-01-30 2023-01-30\n"
     ]
    }
   ],
   "source": [
    "# Task 1: Convert the 'date_string' column to datetime format and store in a new column 'order_date'\n",
    "# Task 1: Convert 'date_string' to datetime format\n",
    "df['order_date'] = pd.to_datetime(df['date_string'])\n",
    "\n",
    "# Display the updated DataFrame\n",
    "print(\"\\nDataFrame with 'order_date' column:\")\n",
    "print(df[['date_string', 'order_date']].head())\n"
   ]
  },
  {
   "cell_type": "code",
   "execution_count": 3,
   "id": "abe04b93-2625-422f-9bd3-07a1a89e1d18",
   "metadata": {},
   "outputs": [],
   "source": [
    "# Task 2: Extract the following components from the order_date and create new columns:\n",
    "# - Month (as integer)\n",
    "# - Day of week (as name, e.g., 'Monday')\n",
    "# - Quarter (Q1, Q2, etc.)\n",
    "# Your code here"
   ]
  }
 ],
 "metadata": {
  "kernelspec": {
   "display_name": "Python 3 (ipykernel)",
   "language": "python",
   "name": "python3"
  },
  "language_info": {
   "codemirror_mode": {
    "name": "ipython",
    "version": 3
   },
   "file_extension": ".py",
   "mimetype": "text/x-python",
   "name": "python",
   "nbconvert_exporter": "python",
   "pygments_lexer": "ipython3",
   "version": "3.12.10"
  }
 },
 "nbformat": 4,
 "nbformat_minor": 5
}
