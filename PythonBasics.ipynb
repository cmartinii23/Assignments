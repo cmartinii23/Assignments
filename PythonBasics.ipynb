{
 "cells": [
  {
   "cell_type": "code",
   "execution_count": null,
   "id": "1438ed87-36f9-4d08-bef0-19b5ca8d92d1",
   "metadata": {},
   "outputs": [],
   "source": [
    "# Introduction to Python - Practice Exercise\n",
    "\n",
    "# Task 1: Variable Declaration and Data Types\n",
    "# Declare variables of different types and print their values and types\n",
    "\n",
    "# Task 2: String Manipulation\n",
    "# Create a string variable and use at least 3 different string methods on it\n",
    "\n",
    "# Task 3: Basic Operations\n",
    "# Perform arithmetic, comparison, and logical operations with variables\n",
    "\n",
    "# Task 4: Data Collections\n",
    "# Create examples of a list, dictionary, and tuple, then access specific elements\n",
    "\n",
    "# Task 5: Expression Combination\n",
    "# Write an expression that combines multiple operations and variables"
   ]
  },
  {
   "cell_type": "code",
   "execution_count": null,
   "id": "0313b866-dfa5-4b7f-80f3-9d2ec131cd70",
   "metadata": {},
   "outputs": [],
   "source": [
    "#Task 1\n",
    "#Variable Declaration\n",
    "#int\n",
    "number_of_pts = 20"
   ]
  },
  {
   "cell_type": "code",
   "execution_count": null,
   "id": "0e3bc17b-fcc8-4d21-8d61-852022e005da",
   "metadata": {},
   "outputs": [],
   "source": [
    "#string\n",
    "main_provider = \"Dr. Gohar\""
   ]
  },
  {
   "cell_type": "code",
   "execution_count": null,
   "id": "9afd35f6-7ef0-46f5-ad11-aca29b27deb1",
   "metadata": {},
   "outputs": [],
   "source": [
    "#float\n",
    "hours = 2.5"
   ]
  },
  {
   "cell_type": "code",
   "execution_count": null,
   "id": "b26c2ba1-39a1-461b-8128-08aac30d3367",
   "metadata": {},
   "outputs": [],
   "source": [
    "print(number_of_pts)"
   ]
  },
  {
   "cell_type": "code",
   "execution_count": null,
   "id": "5cff51ba-a4b0-4e55-99d7-6b6ef02aab5b",
   "metadata": {},
   "outputs": [],
   "source": [
    "print(\"Dr. Gohar\")"
   ]
  },
  {
   "cell_type": "code",
   "execution_count": null,
   "id": "a9e019a3-699a-422e-905a-8e823993c6db",
   "metadata": {},
   "outputs": [],
   "source": [
    "print (hours)"
   ]
  },
  {
   "cell_type": "code",
   "execution_count": null,
   "id": "74eedd1b-ddb6-4a4b-a6c7-e23c3447efc7",
   "metadata": {},
   "outputs": [],
   "source": [
    "print (number_of_pts, main_provider, hours)\n"
   ]
  },
  {
   "cell_type": "code",
   "execution_count": null,
   "id": "ea3cecbf-3729-45bb-86ee-3bbe85f7c77f",
   "metadata": {},
   "outputs": [],
   "source": [
    "print(type(number_of_pts))"
   ]
  },
  {
   "cell_type": "code",
   "execution_count": null,
   "id": "30b5034f-a697-43fc-9922-c1e0c44e8758",
   "metadata": {},
   "outputs": [],
   "source": [
    "print (type(main_provider))"
   ]
  },
  {
   "cell_type": "code",
   "execution_count": null,
   "id": "e20d1871-0256-4000-a067-d008c4a77274",
   "metadata": {},
   "outputs": [],
   "source": [
    "print(type(hours))"
   ]
  },
  {
   "cell_type": "code",
   "execution_count": null,
   "id": "1c7e04d1-1605-454a-810b-cfa621b38832",
   "metadata": {},
   "outputs": [],
   "source": [
    "#Task 3"
   ]
  },
  {
   "cell_type": "code",
   "execution_count": null,
   "id": "7ad13efe-b057-4dc5-860c-72fabcc695d4",
   "metadata": {},
   "outputs": [],
   "source": [
    "#arthmetic\n",
    "hours / number_of_pts"
   ]
  },
  {
   "cell_type": "code",
   "execution_count": null,
   "id": "91126e47-9993-4cdb-84a9-08c89f075003",
   "metadata": {},
   "outputs": [],
   "source": [
    "#comparison\n",
    "hours == number_of_pts"
   ]
  },
  {
   "cell_type": "code",
   "execution_count": null,
   "id": "6d384464-d343-4dd7-902b-7a2a0f34de60",
   "metadata": {},
   "outputs": [],
   "source": [
    "hours > number_of_pts"
   ]
  },
  {
   "cell_type": "code",
   "execution_count": null,
   "id": "3ba962e0-fbe7-4f06-afe9-d10d61a3b35a",
   "metadata": {},
   "outputs": [],
   "source": [
    "#logical\n",
    "print (number_of_pts and main_provider)"
   ]
  },
  {
   "cell_type": "code",
   "execution_count": null,
   "id": "33bba58b-b383-4b88-b4e1-bf0413b3d517",
   "metadata": {},
   "outputs": [],
   "source": [
    "#Task 2\n",
    "#String Manipulation\n",
    "\n",
    "print(main_provider.upper())\n"
   ]
  },
  {
   "cell_type": "code",
   "execution_count": null,
   "id": "0ad9c153-37af-4656-b961-7c03a5025f36",
   "metadata": {},
   "outputs": [],
   "source": [
    "print(main_provider.lower())"
   ]
  },
  {
   "cell_type": "code",
   "execution_count": null,
   "id": "d103ebec-53a4-44e2-8d08-f52867b85541",
   "metadata": {},
   "outputs": [],
   "source": [
    "print(main_provider.capitalize())"
   ]
  },
  {
   "cell_type": "code",
   "execution_count": null,
   "id": "6f64f130-688a-4dbc-9d03-64fac8b05e69",
   "metadata": {},
   "outputs": [],
   "source": [
    "print(main_provider.count(\"r\"))"
   ]
  },
  {
   "cell_type": "code",
   "execution_count": null,
   "id": "197269f6-6c9f-4705-a5e7-984a893f71c6",
   "metadata": {},
   "outputs": [],
   "source": []
  }
 ],
 "metadata": {
  "kernelspec": {
   "display_name": "Python 3 (ipykernel)",
   "language": "python",
   "name": "python3"
  },
  "language_info": {
   "codemirror_mode": {
    "name": "ipython",
    "version": 3
   },
   "file_extension": ".py",
   "mimetype": "text/x-python",
   "name": "python",
   "nbconvert_exporter": "python",
   "pygments_lexer": "ipython3",
   "version": "3.12.9"
  }
 },
 "nbformat": 4,
 "nbformat_minor": 5
}
